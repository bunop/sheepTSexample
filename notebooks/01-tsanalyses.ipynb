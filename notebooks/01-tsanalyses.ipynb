{
 "cells": [
  {
   "cell_type": "markdown",
   "metadata": {},
   "source": [
    "# Try to analyze simulated data\n"
   ]
  },
  {
   "cell_type": "code",
   "execution_count": null,
   "metadata": {},
   "outputs": [],
   "source": [
    "import tskit\n",
    "import matplotlib.pyplot as plt\n",
    "import numpy as np"
   ]
  },
  {
   "cell_type": "code",
   "execution_count": null,
   "metadata": {},
   "outputs": [],
   "source": [
    "ts = tskit.load(\"../test1M.out.inf.ts\")\n",
    "ts"
   ]
  },
  {
   "cell_type": "markdown",
   "metadata": {},
   "source": [
    "*genome and breeds* relative this dataset:\n",
    "* 0-9 mouflon\n",
    "* 10-109 iranian\n",
    "* 110-209 Border"
   ]
  },
  {
   "cell_type": "markdown",
   "metadata": {},
   "source": [
    "The first tree is for the end of chromosome, so don't have sense"
   ]
  },
  {
   "cell_type": "code",
   "execution_count": null,
   "metadata": {},
   "outputs": [],
   "source": [
    "ts.first().draw_svg()"
   ]
  },
  {
   "cell_type": "markdown",
   "metadata": {},
   "source": [
    "Get tree at position. Change image size"
   ]
  },
  {
   "cell_type": "code",
   "execution_count": null,
   "metadata": {},
   "outputs": [],
   "source": [
    "ts.at(110).draw_svg(size=(500, 500))"
   ]
  },
  {
   "cell_type": "markdown",
   "metadata": {},
   "source": [
    "simplify unary trees (data occurring once, individual ancestors that don't differ before and after)"
   ]
  },
  {
   "cell_type": "code",
   "execution_count": null,
   "metadata": {},
   "outputs": [],
   "source": [
    "ts.simplify().at(110).draw_svg(size=(500, 500))"
   ]
  },
  {
   "cell_type": "markdown",
   "metadata": {},
   "source": [
    "`simplify` can down-sample a ts. Subselect a few of them:"
   ]
  },
  {
   "cell_type": "code",
   "execution_count": null,
   "metadata": {},
   "outputs": [],
   "source": [
    "ts.simplify([0,1,2,3,4, 10, 11, 12, 13, 14, 110, 111, 112, 113, 114]).at(110).draw_svg(size=(500, 500))"
   ]
  },
  {
   "cell_type": "markdown",
   "metadata": {},
   "source": [
    "Try to label this nodes:"
   ]
  },
  {
   "cell_type": "code",
   "execution_count": null,
   "metadata": {},
   "outputs": [],
   "source": [
    "{i: [\"M\", \"I\", \"B\"][i // 5] for i in range(15)}"
   ]
  },
  {
   "cell_type": "code",
   "execution_count": null,
   "metadata": {},
   "outputs": [],
   "source": [
    "ts.simplify(\n",
    "    [0,1,2,3,4, 10, 11, 12, 13, 14, 110, 111, 112, 113, 114]).at(110).draw_svg(\n",
    "        size=(500, 500),\n",
    "        omit_sites=True,\n",
    "        node_labels={i: [\"M\", \"I\", \"B\"][i // 5] for i in range(15)},\n",
    "        y_axis=True)"
   ]
  },
  {
   "cell_type": "markdown",
   "metadata": {},
   "source": [
    "B cluster, while M is not a very good outgroup, since one of them is closer to I\n",
    "\n",
    "## Inspect GT matrix\n",
    "this is not stored, I can derive it from treesequence"
   ]
  },
  {
   "cell_type": "code",
   "execution_count": null,
   "metadata": {},
   "outputs": [],
   "source": [
    "ts.genotype_matrix()"
   ]
  },
  {
   "cell_type": "code",
   "execution_count": null,
   "metadata": {},
   "outputs": [],
   "source": [
    "plt.imshow(ts.genotype_matrix(), aspect=\"auto\")\n",
    "plt.ylabel(\"Sites\")\n",
    "plt.xlabel(\"Haplotypes (genomes)\")"
   ]
  },
  {
   "cell_type": "markdown",
   "metadata": {},
   "source": [
    "subset a matrix"
   ]
  },
  {
   "cell_type": "code",
   "execution_count": null,
   "metadata": {},
   "outputs": [],
   "source": [
    "plt.imshow(ts.genotype_matrix()[:200, :], aspect=\"auto\")\n",
    "plt.ylabel(\"Sites\")\n",
    "plt.xlabel(\"Haplotypes (genomes)\")"
   ]
  },
  {
   "cell_type": "markdown",
   "metadata": {},
   "source": [
    "## Genetic statistics\n",
    "what about summary statistics? nucleotide diversity for all individuals:"
   ]
  },
  {
   "cell_type": "code",
   "execution_count": null,
   "metadata": {},
   "outputs": [],
   "source": [
    "ts.diversity()"
   ]
  },
  {
   "cell_type": "markdown",
   "metadata": {},
   "source": [
    "for groups (mouflon, iranian, border)"
   ]
  },
  {
   "cell_type": "code",
   "execution_count": null,
   "metadata": {},
   "outputs": [],
   "source": [
    "ts.diversity([range(10), range(10, 110), range(110, 210)]) * 100"
   ]
  },
  {
   "cell_type": "markdown",
   "metadata": {},
   "source": [
    "compare Fst pairwise. It requires to define groups and then the pairs of groups to compare:"
   ]
  },
  {
   "cell_type": "code",
   "execution_count": null,
   "metadata": {},
   "outputs": [],
   "source": [
    "ts.Fst([range(10), range(10, 110), range(110, 210)], indexes=[[0,1], [0,2], [1,2]])"
   ]
  },
  {
   "cell_type": "code",
   "execution_count": null,
   "metadata": {},
   "outputs": [],
   "source": [
    "fst = ts.Fst(\n",
    "    [range(10), range(10, 110), range(110, 210)],\n",
    "    indexes=[[0,1], [0,2], [1,2]],\n",
    "    windows=np.linspace(0, 1_000_000, 101)\n",
    ")\n",
    "fst"
   ]
  },
  {
   "cell_type": "code",
   "execution_count": null,
   "metadata": {},
   "outputs": [],
   "source": [
    "plt.plot(range(100), fst[:, 0], label=\"M-I\")\n",
    "plt.plot(range(100), fst[:, 1], label=\"M-B\")\n",
    "plt.plot(range(100), fst[:, 2], label=\"I-B\")\n",
    "plt.legend()\n",
    "plt.show()"
   ]
  },
  {
   "cell_type": "markdown",
   "metadata": {},
   "source": [
    "## Genealogic nearest neighbours\n",
    "where's the nearest neighbours to genome *index* from populations"
   ]
  },
  {
   "cell_type": "code",
   "execution_count": null,
   "metadata": {},
   "outputs": [],
   "source": [
    "ts.genealogical_nearest_neighbours([0], [range(10), range(10, 110), range(110, 210)])"
   ]
  },
  {
   "cell_type": "code",
   "execution_count": null,
   "metadata": {},
   "outputs": [],
   "source": [
    "ts.genealogical_nearest_neighbours(range(110, 120), [range(10), range(10, 110), range(110, 210)])"
   ]
  },
  {
   "cell_type": "code",
   "execution_count": null,
   "metadata": {},
   "outputs": [],
   "source": [
    "np.sum(ts.genotype_matrix()[:, :2], axis=1) != 1"
   ]
  },
  {
   "cell_type": "code",
   "execution_count": null,
   "metadata": {},
   "outputs": [],
   "source": [
    "hetPos = ts.sites_position[np.invert(np.sum(ts.genotype_matrix()[:,:2], axis=1) != 1)]"
   ]
  },
  {
   "cell_type": "code",
   "execution_count": null,
   "metadata": {},
   "outputs": [],
   "source": [
    "def getRohLengths(g0, g1, tr=20000):\n",
    "    hp = ts.sites_position[np.invert(np.sum(ts.genotype_matrix()[:, [g0,g1]], axis=1) != 1)]\n",
    "    dd = np.diff(hp)\n",
    "    return dd[dd > tr]"
   ]
  },
  {
   "cell_type": "code",
   "execution_count": null,
   "metadata": {},
   "outputs": [],
   "source": [
    "plt.hist(getRohLengths(0, 1, tr=1000), histtype=\"step\", label=\"Mouflon\", bins=100)\n",
    "plt.hist(getRohLengths(110, 111, tr=1000), histtype=\"step\", label=\"B0\", bins=100)\n",
    "plt.legend()\n",
    "plt.title(\"Distribution of ROHs in individuals 0 (mouflon)\")\n",
    "plt.show()"
   ]
  },
  {
   "cell_type": "code",
   "execution_count": null,
   "metadata": {},
   "outputs": [],
   "source": []
  }
 ],
 "metadata": {
  "kernelspec": {
   "display_name": "Python 3 (ipykernel)",
   "language": "python",
   "name": "python3"
  },
  "language_info": {
   "codemirror_mode": {
    "name": "ipython",
    "version": 3
   },
   "file_extension": ".py",
   "mimetype": "text/x-python",
   "name": "python",
   "nbconvert_exporter": "python",
   "pygments_lexer": "ipython3",
   "version": "3.9.2"
  }
 },
 "nbformat": 4,
 "nbformat_minor": 2
}

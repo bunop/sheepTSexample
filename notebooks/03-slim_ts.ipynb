{
 "cells": [
  {
   "cell_type": "markdown",
   "metadata": {},
   "source": [
    "# Import TS generated with SLIM"
   ]
  },
  {
   "cell_type": "code",
   "execution_count": null,
   "metadata": {},
   "outputs": [],
   "source": [
    "import tskit\n",
    "import matplotlib.pyplot as plt\n",
    "import numpy as np"
   ]
  },
  {
   "cell_type": "code",
   "execution_count": null,
   "metadata": {},
   "outputs": [],
   "source": [
    "ts = tskit.load(\"recipe_17.5.trees\")\n",
    "ts"
   ]
  },
  {
   "cell_type": "code",
   "execution_count": null,
   "metadata": {},
   "outputs": [],
   "source": [
    "breaks = np.zeros(ts.num_trees + 1)\n",
    "breaks"
   ]
  },
  {
   "cell_type": "code",
   "execution_count": null,
   "metadata": {},
   "outputs": [],
   "source": [
    "ancestry = np.zeros(ts.num_trees + 1)"
   ]
  },
  {
   "cell_type": "code",
   "execution_count": null,
   "metadata": {},
   "outputs": [],
   "source": [
    "for tree in ts.trees():\n",
    "    subpop_sum, subpop_weights = 0, 0\n",
    "\n",
    "    for root in tree.roots:\n",
    "        # how many samples are in this tree?\n",
    "        leaves_count = tree.num_samples(root) - 1\n",
    "        subpop_sum += tree.population(root) * leaves_count\n",
    "        subpop_weights += leaves_count\n",
    "\n",
    "    breaks[tree.index] = tree.interval[0]\n",
    "    ancestry[tree.index] = subpop_sum / subpop_weights\n",
    "\n",
    "breaks[-1] = ts.sequence_length\n",
    "ancestry[-1] = ancestry[-2]"
   ]
  },
  {
   "cell_type": "code",
   "execution_count": null,
   "metadata": {},
   "outputs": [],
   "source": [
    "plt.plot(breaks, ancestry)\n",
    "plt.xlabel(\"Genomic position (bp)\")\n",
    "plt.show()"
   ]
  },
  {
   "cell_type": "code",
   "execution_count": null,
   "metadata": {},
   "outputs": [],
   "source": [
    "breaks"
   ]
  },
  {
   "cell_type": "code",
   "execution_count": null,
   "metadata": {},
   "outputs": [],
   "source": []
  }
 ],
 "metadata": {
  "kernelspec": {
   "display_name": "Python 3 (ipykernel)",
   "language": "python",
   "name": "python3"
  },
  "language_info": {
   "codemirror_mode": {
    "name": "ipython",
    "version": 3
   },
   "file_extension": ".py",
   "mimetype": "text/x-python",
   "name": "python",
   "nbconvert_exporter": "python",
   "pygments_lexer": "ipython3",
   "version": "3.9.2"
  }
 },
 "nbformat": 4,
 "nbformat_minor": 2
}

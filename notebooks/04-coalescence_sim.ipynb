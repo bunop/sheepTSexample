{
 "cells": [
  {
   "cell_type": "markdown",
   "metadata": {},
   "source": [
    "# Coalescent simulations"
   ]
  },
  {
   "cell_type": "code",
   "execution_count": null,
   "metadata": {},
   "outputs": [],
   "source": [
    "import msprime\n",
    "import numpy as np\n",
    "import matplotlib.pyplot as plt"
   ]
  },
  {
   "cell_type": "markdown",
   "metadata": {},
   "source": [
    "set up parameters"
   ]
  },
  {
   "cell_type": "code",
   "execution_count": null,
   "metadata": {},
   "outputs": [],
   "source": [
    "L = 1_000_000 # genome size\n",
    "rho = mu = 1e-8 # mutation rate\n",
    "n_subpops = 2 # number of subpopulations\n",
    "subpop_size = 1e4 # size of each subpopulation\n",
    "migration_rate = 1e-4 # migration rate"
   ]
  },
  {
   "cell_type": "markdown",
   "metadata": {},
   "source": [
    "simulate ancestry (tree sequnce = ARG) without mutations"
   ]
  },
  {
   "cell_type": "code",
   "execution_count": null,
   "metadata": {},
   "outputs": [],
   "source": [
    "ts_no_mut = msprime.sim_ancestry(\n",
    "    samples = {f\"pop_{i}\": 10 for i in range(n_subpops)},\n",
    "    demography = msprime.Demography.island_model([subpop_size] * n_subpops, migration_rate),\n",
    "    ploidy = 2,\n",
    "    sequence_length = L,\n",
    "    recombination_rate = rho, # cross over recombination\n",
    "    random_seed=123\n",
    ")\n",
    "ts_no_mut"
   ]
  },
  {
   "cell_type": "markdown",
   "metadata": {},
   "source": [
    "add mutations"
   ]
  },
  {
   "cell_type": "code",
   "execution_count": null,
   "metadata": {},
   "outputs": [],
   "source": [
    "ts_mutated = msprime.sim_mutations(\n",
    "    ts_no_mut,\n",
    "    rate = mu,\n",
    "    random_seed=456\n",
    ")\n",
    "ts_mutated"
   ]
  },
  {
   "cell_type": "markdown",
   "metadata": {},
   "source": [
    "the total size of tree changed. With more mutations, more information\n",
    "\n",
    "## Analysing patterns of relatedness"
   ]
  },
  {
   "cell_type": "code",
   "execution_count": null,
   "metadata": {},
   "outputs": [],
   "source": [
    "np.random.seed(10)\n",
    "sample_a = np.random.choice(ts_no_mut.samples(population=0), size=1)[0]\n",
    "sample_b = np.random.choice(ts_no_mut.samples(population=1), size=1)[0]\n",
    "\n",
    "av_MRCA = 0\n",
    "\n",
    "for tree in ts_no_mut.trees():\n",
    "    # get tMRCA and weight by each tree's span\n",
    "    av_MRCA += tree.tmrca(sample_a, sample_b) * tree.span / ts_no_mut.sequence_length\n",
    "\n",
    "print(\n",
    "    f\"Average tMRCA betweeb sample {sample_a} (pop_0) and \"\n",
    "    f\"{sample_b} (pop_1) is: {av_MRCA:.2f} {ts_no_mut.time_units}\")"
   ]
  },
  {
   "cell_type": "code",
   "execution_count": null,
   "metadata": {},
   "outputs": [],
   "source": [
    "print(\n",
    "    f\"Genetic divergence between samples {sample_a} and {sample_b} is: \"\n",
    "    f\"{ts_mutated.divergence([[sample_a], [sample_b]]):.6f}\")"
   ]
  },
  {
   "cell_type": "code",
   "execution_count": null,
   "metadata": {},
   "outputs": [],
   "source": [
    "ab_dist = ts_no_mut.divergence([[sample_a], [sample_b]], mode=\"branch\")\n",
    "ab_dist"
   ]
  },
  {
   "cell_type": "code",
   "execution_count": null,
   "metadata": {},
   "outputs": [],
   "source": [
    "print(f\"{ab_dist * mu: .6f}\")"
   ]
  },
  {
   "cell_type": "code",
   "execution_count": null,
   "metadata": {},
   "outputs": [],
   "source": [
    "n_reps = 20\n",
    "\n",
    "ts_reps = list(\n",
    "    msprime.sim_ancestry(\n",
    "        samples = {f\"pop_{i}\": 10 for i in range(n_subpops)},\n",
    "        demography = msprime.Demography.island_model([subpop_size] * n_subpops, migration_rate),\n",
    "        ploidy = 2,\n",
    "        sequence_length = L,\n",
    "        recombination_rate = rho, # cross over recombination\n",
    "        random_seed=123,\n",
    "        num_replicates = n_reps\n",
    "    )\n",
    ")"
   ]
  },
  {
   "cell_type": "code",
   "execution_count": null,
   "metadata": {},
   "outputs": [],
   "source": [
    "ts_mutated_reps = [msprime.sim_mutations(ts, rate=mu/100, random_seed=i+4) for i, ts in enumerate(ts_reps)]"
   ]
  },
  {
   "cell_type": "code",
   "execution_count": null,
   "metadata": {},
   "outputs": [],
   "source": [
    "def sample_set(ts):\n",
    "    return [ts.samples(population=p.id) for p in ts.populations()]"
   ]
  },
  {
   "cell_type": "code",
   "execution_count": null,
   "metadata": {},
   "outputs": [],
   "source": [
    "sample_set(ts_reps[0])"
   ]
  },
  {
   "cell_type": "code",
   "execution_count": null,
   "metadata": {},
   "outputs": [],
   "source": [
    "Fst_genealogy = np.array([ts.Fst(sample_set(ts), mode=\"branch\") for ts in ts_reps])"
   ]
  },
  {
   "cell_type": "code",
   "execution_count": null,
   "metadata": {},
   "outputs": [],
   "source": [
    "Fst_genetic_var = np.array([ts.Fst(sample_set(ts)) for ts in ts_mutated_reps])"
   ]
  },
  {
   "cell_type": "code",
   "execution_count": null,
   "metadata": {},
   "outputs": [],
   "source": [
    "Fst_theory = 1 / (4 * subpop_size * migration_rate * (n_subpops / (n_subpops - 1))**2 + 1)"
   ]
  },
  {
   "cell_type": "code",
   "execution_count": null,
   "metadata": {},
   "outputs": [],
   "source": [
    "plt.scatter([\"Genetic variation\"] * 20, Fst_genetic_var)\n",
    "plt.scatter([\"Genealogy\"] * 20, Fst_genealogy)\n",
    "plt.xlabel(\"Basis of estimate\")\n",
    "plt.ylabel(\"$F_{ST}$\\n(20 replicates)\")\n",
    "plt.axhline(y=Fst_theory, color=\"grey\", ls=\":\")\n",
    "plt.text(0.5, Fst_theory+0.005, \"Theoretical prediction\", ha=\"center\")\n",
    "plt.show()"
   ]
  },
  {
   "cell_type": "code",
   "execution_count": null,
   "metadata": {},
   "outputs": [],
   "source": [
    "np.var(Fst_genealogy), np.var(Fst_genetic_var)"
   ]
  },
  {
   "cell_type": "markdown",
   "metadata": {},
   "source": [
    "## Distribution of coalescence times for a sample of 2 haploids"
   ]
  },
  {
   "cell_type": "code",
   "execution_count": null,
   "metadata": {},
   "outputs": [],
   "source": [
    "tsList = list(msprime.sim_ancestry(\n",
    "    2,\n",
    "    ploidy=1,\n",
    "    population_size=10_000,\n",
    "    num_replicates=10_000\n",
    "))"
   ]
  },
  {
   "cell_type": "code",
   "execution_count": null,
   "metadata": {},
   "outputs": [],
   "source": [
    "tsList[0].draw_svg(y_axis=True)"
   ]
  },
  {
   "cell_type": "code",
   "execution_count": null,
   "metadata": {},
   "outputs": [],
   "source": [
    "tList = [i.first().tmrca(0, 1) for i in tsList]"
   ]
  },
  {
   "cell_type": "code",
   "execution_count": null,
   "metadata": {},
   "outputs": [],
   "source": [
    "plt.hist(tList, bins=100)\n",
    "plt.show()"
   ]
  },
  {
   "cell_type": "code",
   "execution_count": null,
   "metadata": {},
   "outputs": [],
   "source": []
  }
 ],
 "metadata": {
  "kernelspec": {
   "display_name": "Python 3 (ipykernel)",
   "language": "python",
   "name": "python3"
  },
  "language_info": {
   "codemirror_mode": {
    "name": "ipython",
    "version": 3
   },
   "file_extension": ".py",
   "mimetype": "text/x-python",
   "name": "python",
   "nbconvert_exporter": "python",
   "pygments_lexer": "ipython3",
   "version": "3.9.2"
  }
 },
 "nbformat": 4,
 "nbformat_minor": 2
}
